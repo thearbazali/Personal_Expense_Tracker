{
 "cells": [
  {
   "cell_type": "code",
   "execution_count": 1,
   "id": "1bfd50ac-d731-4a68-be48-234b5b40de4f",
   "metadata": {},
   "outputs": [
    {
     "name": "stdout",
     "output_type": "stream",
     "text": [
      "\n",
      "Finance Tracker\n",
      "1. Add Expense\n",
      "2. View Expenses\n",
      "3. Exit\n"
     ]
    },
    {
     "name": "stdin",
     "output_type": "stream",
     "text": [
      "Enter your choice:  1\n",
      "Enter expense category:  Food\n",
      "Enter amount spent:  1000\n"
     ]
    },
    {
     "name": "stdout",
     "output_type": "stream",
     "text": [
      "Expense added successfully!\n",
      "\n",
      "Finance Tracker\n",
      "1. Add Expense\n",
      "2. View Expenses\n",
      "3. Exit\n"
     ]
    },
    {
     "name": "stdin",
     "output_type": "stream",
     "text": [
      "Enter your choice:  1\n",
      "Enter expense category:  Travel\n",
      "Enter amount spent:  800\n"
     ]
    },
    {
     "name": "stdout",
     "output_type": "stream",
     "text": [
      "Expense added successfully!\n",
      "\n",
      "Finance Tracker\n",
      "1. Add Expense\n",
      "2. View Expenses\n",
      "3. Exit\n"
     ]
    },
    {
     "name": "stdin",
     "output_type": "stream",
     "text": [
      "Enter your choice:  1\n",
      "Enter expense category:  Movie\n",
      "Enter amount spent:  800\n"
     ]
    },
    {
     "name": "stdout",
     "output_type": "stream",
     "text": [
      "Expense added successfully!\n",
      "\n",
      "Finance Tracker\n",
      "1. Add Expense\n",
      "2. View Expenses\n",
      "3. Exit\n"
     ]
    },
    {
     "name": "stdin",
     "output_type": "stream",
     "text": [
      "Enter your choice:  2\n"
     ]
    },
    {
     "name": "stdout",
     "output_type": "stream",
     "text": [
      "\n",
      "Your Expenses:\n",
      "Category: FOOD, Amount: 1000.0\n",
      "Category: TRAVEL, Amount: 800.0\n",
      "Category: MOVIE, Amount: 800.0\n",
      "Total Expenses: 2600.0\n",
      "\n",
      "Finance Tracker\n",
      "1. Add Expense\n",
      "2. View Expenses\n",
      "3. Exit\n"
     ]
    },
    {
     "name": "stdin",
     "output_type": "stream",
     "text": [
      "Enter your choice:  3\n"
     ]
    },
    {
     "name": "stdout",
     "output_type": "stream",
     "text": [
      "Exiting Finance Tracker. Have a great day!\n"
     ]
    }
   ],
   "source": [
    "# Simple Finance Tracker\n",
    "\n",
    "def main():\n",
    "    expenses = []  # List to store expenses\n",
    "    \n",
    "    while True:\n",
    "        print(\"\\nFinance Tracker\")\n",
    "        print(\"1. Add Expense\")\n",
    "        print(\"2. View Expenses\")\n",
    "        print(\"3. Exit\")\n",
    "        \n",
    "        choice = input(\"Enter your choice: \").strip()\n",
    "        \n",
    "        if choice == \"1\":\n",
    "            category = input(\"Enter expense category: \").strip().lower()\n",
    "            amount = input(\"Enter amount spent: \").strip()\n",
    "            \n",
    "            if amount.isdigit():\n",
    "                expenses.append((category, float(amount)))\n",
    "                print(\"Expense added successfully!\")\n",
    "            else:\n",
    "                print(\"Invalid amount. Please enter a valid number.\")\n",
    "                \n",
    "        elif choice == \"2\":\n",
    "            if not expenses:\n",
    "                print(\"No expenses recorded yet.\")\n",
    "            else:\n",
    "                print(\"\\nYour Expenses:\")\n",
    "                total = 0\n",
    "                for category, amount in expenses:\n",
    "                    print(f\"Category: {category.upper()}, Amount: {amount}\")\n",
    "                    total += amount\n",
    "                print(f\"Total Expenses: {total}\")\n",
    "                \n",
    "        elif choice == \"3\":\n",
    "            print(\"Exiting Finance Tracker. Have a great day!\")\n",
    "            break\n",
    "        \n",
    "        else:\n",
    "            print(\"Invalid choice. Please enter 1, 2, or 3.\")\n",
    "            \n",
    "if __name__ == \"__main__\":\n",
    "    main()\n"
   ]
  },
  {
   "cell_type": "code",
   "execution_count": null,
   "id": "8449a503-1500-4b17-b298-866593d2f3d7",
   "metadata": {},
   "outputs": [],
   "source": []
  }
 ],
 "metadata": {
  "kernelspec": {
   "display_name": "Python [conda env:base] *",
   "language": "python",
   "name": "conda-base-py"
  },
  "language_info": {
   "codemirror_mode": {
    "name": "ipython",
    "version": 3
   },
   "file_extension": ".py",
   "mimetype": "text/x-python",
   "name": "python",
   "nbconvert_exporter": "python",
   "pygments_lexer": "ipython3",
   "version": "3.12.7"
  }
 },
 "nbformat": 4,
 "nbformat_minor": 5
}
